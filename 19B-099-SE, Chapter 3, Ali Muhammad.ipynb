{
 "cells": [
  {
   "cell_type": "code",
   "execution_count": null,
   "metadata": {},
   "outputs": [],
   "source": []
  },
  {
   "cell_type": "code",
   "execution_count": 2,
   "metadata": {},
   "outputs": [
    {
     "name": "stdout",
     "output_type": "stream",
     "text": [
      "Enter the temperature in degrees Fahrenheit: 102\n",
      "The temperature in degrees Celsius is 38.89\n"
     ]
    }
   ],
   "source": [
    "#3.1\n",
    "F = eval(input('Enter the temperature in degrees Fahrenheit: ')) \n",
    "C = (F - 32) * 5 / 9 \n",
    "print('The temperature in degrees Celsius is {0:.{1}f}'.format(C,2)) "
   ]
  },
  {
   "cell_type": "code",
   "execution_count": 11,
   "metadata": {},
   "outputs": [
    {
     "name": "stdout",
     "output_type": "stream",
     "text": [
      "a ) You can get your pension benefits!\n",
      "b ) One of the top 5 baseball players, ever!\n",
      "c ) You're dead ...\n",
      "d ) I can escape.\n"
     ]
    }
   ],
   "source": [
    "#3.2\n",
    "age = 64\n",
    "name = 'Aaron'\n",
    "hits = 11\n",
    "shield = 0\n",
    "x = 'north'\n",
    "if age > 62: \n",
    "    print('a ) You can get your pension benefits!') \n",
    "if name in ['Musial','Aaron','Williams','Gehrig','Ruth']:\n",
    "    print('b ) One of the top 5 baseball players, ever!') \n",
    "if hits > 10 and shield == 0: \n",
    "    print('c ) You\\'re dead ...') \n",
    "if x == ( 'north' or 'south' or 'east' or 'west' ): \n",
    "    print('d ) I can escape.') "
   ]
  },
  {
   "cell_type": "code",
   "execution_count": 15,
   "metadata": {},
   "outputs": [
    {
     "name": "stdout",
     "output_type": "stream",
     "text": [
      "a ) Definitely not a leap year.\n",
      "b ) You won!\n"
     ]
    }
   ],
   "source": [
    "#3.3\n",
    "year = 2019\n",
    "if year % 4 == 0: \n",
    "    print('a ) Could be a leap year.') \n",
    "else: \n",
    "    print('a ) Definitely not a leap year.') \n",
    "\n",
    "ticket = 34343\n",
    "lottery = 34343\n",
    "if ticket == lottery:\n",
    "    print('b ) You won!') \n",
    "else: \n",
    "    print('b ) Better luck next time...') "
   ]
  },
  {
   "cell_type": "code",
   "execution_count": 16,
   "metadata": {},
   "outputs": [
    {
     "name": "stdout",
     "output_type": "stream",
     "text": [
      "Login: joe\n",
      "You are in!\n",
      "Done.\n"
     ]
    }
   ],
   "source": [
    "#3.4\n",
    "users = ['joe', 'sue', 'hani', 'sophie'] \n",
    "id = input('Login: ') \n",
    "if id in users:\n",
    "    print('You are in!') \n",
    "else: \n",
    "    print('User unknown.') \n",
    "print('Done.') "
   ]
  },
  {
   "cell_type": "code",
   "execution_count": 22,
   "metadata": {},
   "outputs": [
    {
     "name": "stdout",
     "output_type": "stream",
     "text": [
      "Enter word list: Ali\n",
      "Enter word list: Usman\n",
      "Enter word list: Alia\n",
      "Enter word list: Poly\n",
      "Enter word list: Raja\n",
      "Alia\n",
      "Poly\n",
      "Raja\n"
     ]
    }
   ],
   "source": [
    "#3.5\n",
    "wordList = []\n",
    "for i in range(5):\n",
    "    Words = input('Enter word list: ')\n",
    "    x = wordList.append(Words)\n",
    "for word in wordList:\n",
    "    if len(word) == 4:\n",
    "        print(word)"
   ]
  },
  {
   "cell_type": "code",
   "execution_count": 24,
   "metadata": {},
   "outputs": [
    {
     "name": "stdout",
     "output_type": "stream",
     "text": [
      "0\n",
      "1\n",
      "2\n",
      "3\n",
      "4\n",
      "5\n",
      "6\n",
      "7\n",
      "8\n",
      "9\n",
      "\n",
      "\n",
      "0\n",
      "1\n"
     ]
    }
   ],
   "source": [
    "#3.6\n",
    "for i in range(10): \n",
    "    print(i) \n",
    "print('\\n')\n",
    "for i in range(2):\n",
    "    print(i)"
   ]
  },
  {
   "cell_type": "code",
   "execution_count": 27,
   "metadata": {},
   "outputs": [
    {
     "name": "stdout",
     "output_type": "stream",
     "text": [
      "3\n",
      "4\n",
      "5\n",
      "6\n",
      "7\n",
      "8\n",
      "9\n",
      "10\n",
      "11\n",
      "12\n",
      "\n",
      "\n",
      "0\n",
      "2\n",
      "4\n",
      "6\n",
      "8\n",
      "\n",
      "\n",
      "0\n",
      "3\n",
      "6\n",
      "9\n",
      "12\n",
      "15\n",
      "18\n",
      "21\n",
      "\n",
      "\n",
      "3\n",
      "8\n"
     ]
    }
   ],
   "source": [
    "#3.7\n",
    "for i in range(3,13):\n",
    "    print(i)\n",
    "print('\\n')\n",
    "\n",
    "for i in range(0,9,2):\n",
    "    print(i)\n",
    "print('\\n')\n",
    "\n",
    "for i in range(0,24,3):\n",
    "    print(i)\n",
    "print('\\n')\n",
    "\n",
    "for i in range(3,12,5):\n",
    "    print(i)"
   ]
  },
  {
   "cell_type": "code",
   "execution_count": 29,
   "metadata": {},
   "outputs": [
    {
     "name": "stdout",
     "output_type": "stream",
     "text": [
      "Perimeter = 18.85cm²\n"
     ]
    }
   ],
   "source": [
    "#3.8\n",
    "from math import pi\n",
    "def perimeter(r):\n",
    "    p = 2 * pi * r\n",
    "    print('Perimeter = {0:.{1}f}cm\\u00b2'.format(p,2))\n",
    "    \n",
    "perimeter(3)"
   ]
  },
  {
   "cell_type": "code",
   "execution_count": 30,
   "metadata": {},
   "outputs": [
    {
     "data": {
      "text/plain": [
       "2.5"
      ]
     },
     "execution_count": 30,
     "metadata": {},
     "output_type": "execute_result"
    }
   ],
   "source": [
    "#3.9\n",
    "def average(x, y): \n",
    "    return (x + y) / 2 \n",
    "average(2,3)"
   ]
  },
  {
   "cell_type": "code",
   "execution_count": 32,
   "metadata": {},
   "outputs": [
    {
     "data": {
      "text/plain": [
       "'false'"
      ]
     },
     "execution_count": 32,
     "metadata": {},
     "output_type": "execute_result"
    }
   ],
   "source": [
    "#3.10\n",
    "def noVowel(x):\n",
    "    for i in x:\n",
    "        if i in 'AEIOUaeiou':\n",
    "            return 'false'\n",
    "        else:\n",
    "            return 'true'\n",
    "noVowel('Usman')"
   ]
  },
  {
   "cell_type": "code",
   "execution_count": 38,
   "metadata": {},
   "outputs": [
    {
     "name": "stdout",
     "output_type": "stream",
     "text": [
      "Enter Number :3\n",
      "Enter Number :4\n",
      "Enter Number :5\n",
      "Enter Number :6\n",
      "Enter Number :7\n"
     ]
    },
    {
     "data": {
      "text/plain": [
       "'false'"
      ]
     },
     "execution_count": 38,
     "metadata": {},
     "output_type": "execute_result"
    }
   ],
   "source": [
    "#3.11\n",
    "def even():\n",
    "    x=[0,0,0,0,0]\n",
    "    for i in range(5):\n",
    "        x[i] = int(input(\"Enter Number :\"))\n",
    "    for i in x :\n",
    "        if i%2!=0:\n",
    "            return 'false'\n",
    "        return 'true'\n",
    "even()"
   ]
  },
  {
   "cell_type": "code",
   "execution_count": 39,
   "metadata": {},
   "outputs": [
    {
     "name": "stdout",
     "output_type": "stream",
     "text": [
      "Enter Number :-2\n",
      "Enter Number :-3\n",
      "Enter Number :-4\n",
      "Enter Number :5\n",
      "Enter Number :4\n",
      "-2\n",
      "-3\n",
      "-4\n"
     ]
    }
   ],
   "source": [
    "#3.12\n",
    "def Negative():\n",
    "    x=[0,0,0,0,0]\n",
    "    for i in range(5):\n",
    "        x[i] = int(input(\"Enter Number :\"))\n",
    "    for i in x :\n",
    "        if i<0:\n",
    "            print(i)\n",
    "Negative()"
   ]
  },
  {
   "cell_type": "code",
   "execution_count": 47,
   "metadata": {},
   "outputs": [
    {
     "name": "stdout",
     "output_type": "stream",
     "text": [
      "Help on function Average in module __main__:\n",
      "\n",
      "Average(x, y)\n",
      "    This will take 2 number as argument and return its average\n",
      "\n"
     ]
    }
   ],
   "source": [
    "#3.13\n",
    "def Average(x,y):\n",
    "    '''This will take 2 number as argument and return its average'''\n",
    "    avg = (x+y)/2\n",
    "    return avg\n",
    "Average(3,4)  \n",
    "help(Average)"
   ]
  },
  {
   "cell_type": "code",
   "execution_count": 48,
   "metadata": {},
   "outputs": [
    {
     "name": "stdout",
     "output_type": "stream",
     "text": [
      "['Sarah', 'Eleanor', 'Clare', 'Ava']\n"
     ]
    }
   ],
   "source": [
    "#3.15\n",
    "team = ['Ava', 'Eleanor', 'Clare', 'Sarah'] \n",
    "team[0], team[-1] = team[-1], team[0]\n",
    "print(team)"
   ]
  },
  {
   "cell_type": "code",
   "execution_count": 52,
   "metadata": {},
   "outputs": [
    {
     "name": "stdout",
     "output_type": "stream",
     "text": [
      "Enter Item :apple\n",
      "Enter Item :banana\n",
      "Enter Item :pineapple\n",
      "Enter Item :guava\n",
      "Enter Item :lemon\n",
      "['apple', 'banana', 'pineapple', 'guava', 'lemon']\n",
      "['lemon', 'banana', 'pineapple', 'guava', 'apple']\n"
     ]
    }
   ],
   "source": [
    "#3.16\n",
    "def swapFL():\n",
    "    x=['0','0',\"0\",'0','0']\n",
    "    for i in range(5):\n",
    "        x[i] = input(\"Enter Item :\")\n",
    "    print(x)\n",
    "    x[0],x[-1]=x[-1],x[0]\n",
    "    print(x)\n",
    "swapFL()"
   ]
  },
  {
   "cell_type": "code",
   "execution_count": 12,
   "metadata": {},
   "outputs": [
    {
     "name": "stdout",
     "output_type": "stream",
     "text": [
      "7\n",
      "hello world!\n",
      "2\n",
      "x = 5\n"
     ]
    }
   ],
   "source": [
    "#3.17\n",
    "\n",
    "print(eval('2 * 3 + 1'))\n",
    "#print('hello')error\n",
    "print(eval(\"'hello' + ' ' + 'world!'\"))\n",
    "print(eval(\"'ASCII'.count('I')\"))\n",
    "print(eval(\"'x = 5'\"))"
   ]
  },
  {
   "cell_type": "code",
   "execution_count": 15,
   "metadata": {},
   "outputs": [
    {
     "name": "stdout",
     "output_type": "stream",
     "text": [
      "a ) ok\n",
      "d ) ok\n"
     ]
    }
   ],
   "source": [
    "#3.18\n",
    "a , b , c = 3 , 4 , 5\n",
    "if a < b :\n",
    "    print('a ) ok')\n",
    "if c < b :\n",
    "    print('b ) ok')\n",
    "if a + b ==c:\n",
    "    print('c ) ok')\n",
    "if (a**2+b**2)==c**2:\n",
    "    print('d ) ok')"
   ]
  },
  {
   "cell_type": "code",
   "execution_count": 16,
   "metadata": {},
   "outputs": [
    {
     "name": "stdout",
     "output_type": "stream",
     "text": [
      "a ) ok\n",
      "b ) Not Ok\n",
      "c ) Not Ok\n",
      "d ) ok\n"
     ]
    }
   ],
   "source": [
    "#3.19\n",
    "\n",
    "a , b , c = 3 , 4 , 5\n",
    "if a < b :\n",
    "    print('a ) ok')\n",
    "else :\n",
    "    print('a ) Not Ok')\n",
    "if c < b :\n",
    "    print('b ) ok')\n",
    "else :\n",
    "    print('b ) Not Ok')\n",
    "if a + b ==c:\n",
    "    print('c ) ok')\n",
    "else :\n",
    "    print('c ) Not Ok')\n",
    "if (a**2+b**2)==c**2:\n",
    "    print('d ) ok')\n",
    "else :\n",
    "    print('d ) Not Ok')"
   ]
  },
  {
   "cell_type": "code",
   "execution_count": 18,
   "metadata": {},
   "outputs": [
    {
     "name": "stdout",
     "output_type": "stream",
     "text": [
      "Jan\n",
      "Feb\n",
      "Mar\n",
      "Apr\n",
      "May\n",
      "Jun\n"
     ]
    }
   ],
   "source": [
    "#3.20\n",
    "months = ['January','Febuary','March','April','May','June']\n",
    "for words in months:\n",
    "    print(words[:3])"
   ]
  },
  {
   "cell_type": "code",
   "execution_count": 21,
   "metadata": {},
   "outputs": [
    {
     "name": "stdout",
     "output_type": "stream",
     "text": [
      "2\n",
      "4\n",
      "6\n",
      "8\n",
      "10\n"
     ]
    }
   ],
   "source": [
    "#3.21\n",
    "lst = [1,2,3,4,5,6,7,8,9,10]\n",
    "for number in lst:\n",
    "    if number%2==0:\n",
    "        print(number)"
   ]
  },
  {
   "cell_type": "code",
   "execution_count": 37,
   "metadata": {},
   "outputs": [
    {
     "name": "stdout",
     "output_type": "stream",
     "text": [
      "4\n",
      "8\n"
     ]
    }
   ],
   "source": [
    "#3.22\n",
    "lst = [1,2,3,4,5,6,7,8,9,10]\n",
    "for number in lst:\n",
    "    if (number**2)%8==0:\n",
    "        print(number)"
   ]
  },
  {
   "cell_type": "code",
   "execution_count": 29,
   "metadata": {},
   "outputs": [
    {
     "name": "stdout",
     "output_type": "stream",
     "text": [
      "0 1 \n",
      "\n",
      "0 \n",
      "\n",
      "3 4 5 6 \n",
      "\n",
      "1 \n",
      "\n",
      "0 3 \n",
      "\n",
      "5 9 13 17 21 "
     ]
    }
   ],
   "source": [
    "#3.23\n",
    "for i in range(2):\n",
    "    print(i,end=(\" \"))\n",
    "print('\\n')\n",
    "for i in range(1):\n",
    "    print(i,end=(\" \"))\n",
    "print('\\n')\n",
    "for i in range(3,7):\n",
    "    print(i,end=(\" \"))\n",
    "print('\\n')\n",
    "for i in range(1,2):\n",
    "    print(i,end=(\" \"))\n",
    "print('\\n')\n",
    "for i in range(0,4,3):\n",
    "    print(i,end=(\" \"))\n",
    "print('\\n')\n",
    "for i in range(5,22,4):\n",
    "    print(i,end=(\" \"))"
   ]
  },
  {
   "cell_type": "code",
   "execution_count": 36,
   "metadata": {},
   "outputs": [
    {
     "name": "stdout",
     "output_type": "stream",
     "text": [
      "Enter list of words: secret\n",
      "Enter list of words: mango\n",
      "Enter list of words: secret\n",
      "Enter list of words: apple\n",
      "['secret', 'mango', 'secret', 'apple']\n",
      "mango\n",
      "apple\n"
     ]
    }
   ],
   "source": [
    "#3.24\n",
    "fruits=['','','','']\n",
    "for i in range(4):\n",
    "    fruits[i] = input(\"Enter list of words: \" )\n",
    "print(fruits)\n",
    "for word in fruits:\n",
    "    if word != 'secret':\n",
    "        print(word)"
   ]
  },
  {
   "cell_type": "code",
   "execution_count": 38,
   "metadata": {},
   "outputs": [
    {
     "name": "stdout",
     "output_type": "stream",
     "text": [
      "Enter list of words: Asad\n",
      "Enter list of words: Mango\n",
      "Enter list of words: Saad\n",
      "Enter list of words: Uzair\n",
      "Enter list of words: Mujtaba\n",
      "['Asad', 'Mango', 'Saad', 'Uzair', 'Mujtaba']\n",
      "Asad\n",
      "Mango\n",
      "Mujtaba\n"
     ]
    }
   ],
   "source": [
    "#3.25\n",
    "name=['','','','','']\n",
    "for i in range(5):\n",
    "    name[i] = input(\"Enter list of words: \" )\n",
    "print(name)\n",
    "for word in name:\n",
    "    if word[0] >= \"A\" and word[0] <= \"M\":\n",
    "        print(word)"
   ]
  },
  {
   "cell_type": "code",
   "execution_count": 39,
   "metadata": {},
   "outputs": [
    {
     "name": "stdout",
     "output_type": "stream",
     "text": [
      "Enter list of words: asad\n",
      "Enter list of words: ali\n",
      "Enter list of words: zubair\n",
      "Enter list of words: maaz\n",
      "Enter list of words: mawiz\n",
      "['asad', 'ali', 'zubair', 'maaz', 'mawiz']\n",
      "First word in list is :  asad\n",
      "last word in list is  :  mawiz\n"
     ]
    }
   ],
   "source": [
    "#3.26\n",
    "name=['','','','','']\n",
    "for i in range(5):\n",
    "    name[i] = input(\"Enter list of words: \" )\n",
    "print(name)\n",
    "print(\"First word in list is : \",name[0])\n",
    "print(\"last word in list is  : \",name[-1])"
   ]
  },
  {
   "cell_type": "code",
   "execution_count": 40,
   "metadata": {},
   "outputs": [
    {
     "name": "stdout",
     "output_type": "stream",
     "text": [
      "Enter a number : 6\n",
      "0\n",
      "6\n",
      "12\n",
      "18\n"
     ]
    }
   ],
   "source": [
    "#3.27\n",
    "x = eval(input(\"Enter a number : \"))\n",
    "for i in range(4):\n",
    "    print(x*i)"
   ]
  },
  {
   "cell_type": "code",
   "execution_count": 41,
   "metadata": {},
   "outputs": [
    {
     "name": "stdout",
     "output_type": "stream",
     "text": [
      "Enter a number : 7\n",
      "0\n",
      "1\n",
      "4\n",
      "9\n",
      "16\n",
      "25\n",
      "36\n"
     ]
    }
   ],
   "source": [
    "#3.28\n",
    "x = eval(input(\"Enter a number : \"))\n",
    "for i in range(x):\n",
    "    print(i**2)"
   ]
  },
  {
   "cell_type": "code",
   "execution_count": 43,
   "metadata": {},
   "outputs": [
    {
     "name": "stdout",
     "output_type": "stream",
     "text": [
      "Enter a number : 9\n",
      "1\n",
      "3\n",
      "9\n"
     ]
    }
   ],
   "source": [
    "#3.29\n",
    "x = eval(input(\"Enter a number : \"))\n",
    "for i in range(1,x+1):\n",
    "    if x%i==0:\n",
    "        print(i)"
   ]
  },
  {
   "cell_type": "code",
   "execution_count": 44,
   "metadata": {},
   "outputs": [
    {
     "name": "stdout",
     "output_type": "stream",
     "text": [
      "Enter first number: 4.5\n",
      "Enter second number: 3\n",
      "Enter third number: 3\n",
      "Enter last number: 3.5\n",
      "Equal\n"
     ]
    }
   ],
   "source": [
    "#3.30\n",
    "n1 = eval(input(\"Enter first number: \" ))\n",
    "n2 = eval(input(\"Enter second number: \" ))\n",
    "n3 = eval(input(\"Enter third number: \" ))\n",
    "n4 = eval(input(\"Enter last number: \" ))\n",
    "if (n1+n2+n3)/3 == n4:\n",
    "    print(\"Equal\")"
   ]
  },
  {
   "cell_type": "code",
   "execution_count": 45,
   "metadata": {},
   "outputs": [
    {
     "name": "stdout",
     "output_type": "stream",
     "text": [
      "Enter x: 4\n",
      "Enter y: 5\n",
      "It is in!\n"
     ]
    }
   ],
   "source": [
    "#3.31\n",
    "x = eval(input(\"Enter x: \" ))\n",
    "y = eval(input(\"Enter y: \" ))\n",
    "if x**2+y**2 < 8**2:\n",
    "    print(\"It is in!\")"
   ]
  },
  {
   "cell_type": "code",
   "execution_count": 48,
   "metadata": {},
   "outputs": [],
   "source": [
    "#3.32\n"
   ]
  },
  {
   "cell_type": "code",
   "execution_count": 50,
   "metadata": {},
   "outputs": [
    {
     "data": {
      "text/plain": [
       "'zyx'"
      ]
     },
     "execution_count": 50,
     "metadata": {},
     "output_type": "execute_result"
    }
   ],
   "source": [
    "#3.33\n",
    "def reverse_string(word):\n",
    "    return word[::-1]\n",
    "reverse_string('xyz')"
   ]
  },
  {
   "cell_type": "code",
   "execution_count": 52,
   "metadata": {},
   "outputs": [
    {
     "data": {
      "text/plain": [
       "8125.0"
      ]
     },
     "execution_count": 52,
     "metadata": {},
     "output_type": "execute_result"
    }
   ],
   "source": [
    "#3.34\n",
    "def pay(x,y):\n",
    "    ntime = x * y\n",
    "    if y > 40:\n",
    "        ntime = ntime + (1.5*x)*y\n",
    "    return ntime\n",
    "pay(50,65)"
   ]
  },
  {
   "cell_type": "code",
   "execution_count": 55,
   "metadata": {},
   "outputs": [
    {
     "data": {
      "text/plain": [
       "0.25"
      ]
     },
     "execution_count": 55,
     "metadata": {},
     "output_type": "execute_result"
    }
   ],
   "source": [
    "#3.35\n",
    "def prob(x):\n",
    "    return 2**(-x)\n",
    "prob(2)\n"
   ]
  },
  {
   "cell_type": "code",
   "execution_count": 58,
   "metadata": {},
   "outputs": [
    {
     "data": {
      "text/plain": [
       "801"
      ]
     },
     "execution_count": 58,
     "metadata": {},
     "output_type": "execute_result"
    }
   ],
   "source": [
    "#3.36\n",
    "def reverse_int(n):\n",
    "    x=0\n",
    "    while(n!=0):\n",
    "        x*=10\n",
    "        x+=n%10\n",
    "        n=n//10\n",
    "    return x\n",
    "reverse_int(108)"
   ]
  },
  {
   "cell_type": "code",
   "execution_count": 67,
   "metadata": {},
   "outputs": [
    {
     "name": "stdout",
     "output_type": "stream",
     "text": [
      "The slope is infinity and the distance is 2.0\n"
     ]
    }
   ],
   "source": [
    "#3.37\n",
    "import math\n",
    "def points(x1,y1,x2,y2):\n",
    "    distance = str(math.sqrt((x1-x2)**2+(y1-y2)**2))\n",
    "    if(x1==x2):\n",
    "        slope = \"infinity\"\n",
    "    else:\n",
    "        slope = str((y2-y1)/(x2-x1))\n",
    "    print(\"The slope is \"+slope+\" and the distance is \"+distance)\n",
    "\n",
    "points(3,4,3,6)"
   ]
  },
  {
   "cell_type": "code",
   "execution_count": 73,
   "metadata": {},
   "outputs": [
    {
     "name": "stdout",
     "output_type": "stream",
     "text": [
      "Tu\n"
     ]
    }
   ],
   "source": [
    "#3.38\n",
    "def abbreviation(x):\n",
    "    print(x[:2])\n",
    "abbreviation('Tuesday')"
   ]
  },
  {
   "cell_type": "code",
   "execution_count": 77,
   "metadata": {},
   "outputs": [
    {
     "name": "stdout",
     "output_type": "stream",
     "text": [
      "True\n",
      "False\n"
     ]
    }
   ],
   "source": [
    "#3.39\n",
    "def collision(x1,y1,r1,x2,y2,r2):\n",
    "    if(math.sqrt((x1-x2)**2+(y1-y2)**2) > r1+r2):\n",
    "        print('False')\n",
    "    else:\n",
    "        print('True')\n",
    "collision(0, 0, 3, 0, 5, 3)\n",
    "collision(0, 0, 1.4, 2, 2, 1.4)"
   ]
  },
  {
   "cell_type": "code",
   "execution_count": 78,
   "metadata": {},
   "outputs": [
    {
     "name": "stdout",
     "output_type": "stream",
     "text": [
      "Ahmed\n",
      "Ali\n"
     ]
    }
   ],
   "source": [
    "#3.40\n",
    "def partition(lsst):\n",
    "    for name in lsst:\n",
    "        if name[0] >= \"A\" and name[0] <= \"M\":\n",
    "            print(name)\n",
    "partition(['Ahmed','Ali','Saad','Uzair'])"
   ]
  },
  {
   "cell_type": "code",
   "execution_count": 83,
   "metadata": {},
   "outputs": [
    {
     "data": {
      "text/plain": [
       "'Wahab,A'"
      ]
     },
     "execution_count": 83,
     "metadata": {},
     "output_type": "execute_result"
    }
   ],
   "source": [
    "#3.41\n",
    "def lastF(fname,lname):\n",
    "    return lname +\",\" +fname[:1]\n",
    "lastF('Abdul','Wahab')"
   ]
  },
  {
   "cell_type": "code",
   "execution_count": 85,
   "metadata": {},
   "outputs": [
    {
     "name": "stdout",
     "output_type": "stream",
     "text": [
      "90.0\n",
      "60.0\n",
      "87.0\n",
      "11.0\n"
     ]
    }
   ],
   "source": [
    "#3.42\n",
    "def avg(lists):\n",
    "    for lst in lists:\n",
    "        print(sum(lst)/len(lst))\n",
    "avg([[95, 92, 86, 87], [66, 54], [89, 72, 100], [33, 0, 0]])"
   ]
  },
  {
   "cell_type": "code",
   "execution_count": 89,
   "metadata": {},
   "outputs": [
    {
     "name": "stdout",
     "output_type": "stream",
     "text": [
      "False\n",
      "True\n"
     ]
    }
   ],
   "source": [
    "#3.43\n",
    "import math\n",
    "def hit(x1,y1,r,x2,y2):\n",
    "    if(math.sqrt((x1-x2)**2+(y1-y2)**2) > r):\n",
    "        print(False)\n",
    "    else:\n",
    "        print(True)\n",
    "hit(0, 0, 3, 4, 0)\n",
    "hit(0, 0, 3, 3, 0)"
   ]
  },
  {
   "cell_type": "code",
   "execution_count": 91,
   "metadata": {},
   "outputs": [
    {
     "name": "stdout",
     "output_type": "stream",
     "text": [
      "Distance is : 1.36km\n"
     ]
    }
   ],
   "source": [
    "#3.44\n",
    "def distance(x):\n",
    "    d = x*(340.29/1000)\n",
    "    print(\"Distance is : {0:.{1}f}km\".format(d,2))\n",
    "distance(4)"
   ]
  }
 ],
 "metadata": {
  "kernelspec": {
   "display_name": "Python 3",
   "language": "python",
   "name": "python3"
  },
  "language_info": {
   "codemirror_mode": {
    "name": "ipython",
    "version": 3
   },
   "file_extension": ".py",
   "mimetype": "text/x-python",
   "name": "python",
   "nbconvert_exporter": "python",
   "pygments_lexer": "ipython3",
   "version": "3.7.3"
  }
 },
 "nbformat": 4,
 "nbformat_minor": 2
}
